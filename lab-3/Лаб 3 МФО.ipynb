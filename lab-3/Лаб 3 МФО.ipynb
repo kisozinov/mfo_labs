{
 "cells": [
  {
   "cell_type": "code",
   "execution_count": 1,
   "metadata": {},
   "outputs": [
    {
     "name": "stderr",
     "output_type": "stream",
     "text": [
      "���⥬� �� 㤠���� ���� 㪠����� ����.\n"
     ]
    },
    {
     "name": "stdout",
     "output_type": "stream",
     "text": [
      "Note: you may need to restart the kernel to use updated packages.\n"
     ]
    }
   ],
   "source": [
    "from mpl_toolkits.mplot3d.axes3d import math\n",
    "%pip install yfinance > /dev/null\n",
    "import scipy.stats\n",
    "import requests\n",
    "import pandas as pd\n",
    "import numpy as np\n",
    "import matplotlib.pyplot as plt\n",
    "import yfinance as yf\n",
    "import datetime\n",
    "import time\n",
    "import requests\n",
    "import io\n",
    "import os\n",
    "import math\n",
    "from scipy.stats import shapiro, normaltest, anderson, norm\n",
    "import seaborn as sns\n",
    "from tqdm import tqdm_notebook\n",
    "from scipy import optimize"
   ]
  },
  {
   "cell_type": "code",
   "execution_count": 2,
   "metadata": {},
   "outputs": [],
   "source": [
    "log_returns = pd.read_csv('data/log_returns.csv')"
   ]
  },
  {
   "cell_type": "code",
   "execution_count": 3,
   "metadata": {},
   "outputs": [
    {
     "data": {
      "text/html": [
       "<div>\n",
       "<style scoped>\n",
       "    .dataframe tbody tr th:only-of-type {\n",
       "        vertical-align: middle;\n",
       "    }\n",
       "\n",
       "    .dataframe tbody tr th {\n",
       "        vertical-align: top;\n",
       "    }\n",
       "\n",
       "    .dataframe thead th {\n",
       "        text-align: right;\n",
       "    }\n",
       "</style>\n",
       "<table border=\"1\" class=\"dataframe\">\n",
       "  <thead>\n",
       "    <tr style=\"text-align: right;\">\n",
       "      <th></th>\n",
       "      <th>Date</th>\n",
       "      <th>3IN</th>\n",
       "      <th>888</th>\n",
       "      <th>AAIF</th>\n",
       "      <th>AAL</th>\n",
       "      <th>AAS</th>\n",
       "      <th>ABD</th>\n",
       "      <th>ABDN</th>\n",
       "      <th>ABF</th>\n",
       "      <th>ACIC</th>\n",
       "      <th>...</th>\n",
       "      <th>WIZZ</th>\n",
       "      <th>WKP</th>\n",
       "      <th>WPP</th>\n",
       "      <th>WTAN</th>\n",
       "      <th>WTB</th>\n",
       "      <th>WWH</th>\n",
       "      <th>XAR</th>\n",
       "      <th>XPP</th>\n",
       "      <th>XPS</th>\n",
       "      <th>ZTF</th>\n",
       "    </tr>\n",
       "  </thead>\n",
       "  <tbody>\n",
       "    <tr>\n",
       "      <th>0</th>\n",
       "      <td>2018-01-03 00:00:00+00:00</td>\n",
       "      <td>0.009500</td>\n",
       "      <td>0.006449</td>\n",
       "      <td>0.006889</td>\n",
       "      <td>-0.008057</td>\n",
       "      <td>0.009434</td>\n",
       "      <td>0.004149</td>\n",
       "      <td>-0.006840</td>\n",
       "      <td>0.020656</td>\n",
       "      <td>0.011209</td>\n",
       "      <td>...</td>\n",
       "      <td>-0.002165</td>\n",
       "      <td>0.007114</td>\n",
       "      <td>-0.025385</td>\n",
       "      <td>0.005561</td>\n",
       "      <td>0.001007</td>\n",
       "      <td>0.007905</td>\n",
       "      <td>0.006901</td>\n",
       "      <td>0.014389</td>\n",
       "      <td>0.002635</td>\n",
       "      <td>0.008762</td>\n",
       "    </tr>\n",
       "    <tr>\n",
       "      <th>1</th>\n",
       "      <td>2018-01-04 00:00:00+00:00</td>\n",
       "      <td>0.002360</td>\n",
       "      <td>0.000714</td>\n",
       "      <td>0.013637</td>\n",
       "      <td>0.014307</td>\n",
       "      <td>0.002345</td>\n",
       "      <td>0.010341</td>\n",
       "      <td>0.012700</td>\n",
       "      <td>0.001761</td>\n",
       "      <td>0.009509</td>\n",
       "      <td>...</td>\n",
       "      <td>-0.020523</td>\n",
       "      <td>-0.001013</td>\n",
       "      <td>0.012204</td>\n",
       "      <td>0.011030</td>\n",
       "      <td>0.006771</td>\n",
       "      <td>0.007843</td>\n",
       "      <td>0.002747</td>\n",
       "      <td>0.028171</td>\n",
       "      <td>-0.007926</td>\n",
       "      <td>-0.005467</td>\n",
       "    </tr>\n",
       "    <tr>\n",
       "      <th>2</th>\n",
       "      <td>2018-01-05 00:00:00+00:00</td>\n",
       "      <td>0.007050</td>\n",
       "      <td>0.007821</td>\n",
       "      <td>0.004505</td>\n",
       "      <td>-0.000997</td>\n",
       "      <td>-0.002345</td>\n",
       "      <td>0.004107</td>\n",
       "      <td>-0.000467</td>\n",
       "      <td>0.013976</td>\n",
       "      <td>0.014096</td>\n",
       "      <td>...</td>\n",
       "      <td>0.011818</td>\n",
       "      <td>0.026508</td>\n",
       "      <td>0.015423</td>\n",
       "      <td>0.003650</td>\n",
       "      <td>-0.001751</td>\n",
       "      <td>0.005842</td>\n",
       "      <td>0.031063</td>\n",
       "      <td>0.000000</td>\n",
       "      <td>0.002649</td>\n",
       "      <td>0.009820</td>\n",
       "    </tr>\n",
       "    <tr>\n",
       "      <th>3</th>\n",
       "      <td>2018-01-08 00:00:00+00:00</td>\n",
       "      <td>0.002342</td>\n",
       "      <td>-0.009249</td>\n",
       "      <td>0.011173</td>\n",
       "      <td>0.014611</td>\n",
       "      <td>0.000000</td>\n",
       "      <td>0.004090</td>\n",
       "      <td>0.010235</td>\n",
       "      <td>-0.010464</td>\n",
       "      <td>0.000000</td>\n",
       "      <td>...</td>\n",
       "      <td>0.002183</td>\n",
       "      <td>0.002957</td>\n",
       "      <td>-0.007870</td>\n",
       "      <td>0.000000</td>\n",
       "      <td>-0.009560</td>\n",
       "      <td>-0.007797</td>\n",
       "      <td>0.075532</td>\n",
       "      <td>0.013794</td>\n",
       "      <td>-0.002649</td>\n",
       "      <td>0.002169</td>\n",
       "    </tr>\n",
       "    <tr>\n",
       "      <th>4</th>\n",
       "      <td>2018-01-09 00:00:00+00:00</td>\n",
       "      <td>0.002333</td>\n",
       "      <td>0.015603</td>\n",
       "      <td>-0.004454</td>\n",
       "      <td>0.030269</td>\n",
       "      <td>-0.004706</td>\n",
       "      <td>0.004073</td>\n",
       "      <td>0.006689</td>\n",
       "      <td>-0.003513</td>\n",
       "      <td>0.000000</td>\n",
       "      <td>...</td>\n",
       "      <td>-0.004098</td>\n",
       "      <td>-0.005923</td>\n",
       "      <td>0.008243</td>\n",
       "      <td>0.005450</td>\n",
       "      <td>-0.003292</td>\n",
       "      <td>0.017459</td>\n",
       "      <td>-0.026235</td>\n",
       "      <td>-0.002744</td>\n",
       "      <td>0.002649</td>\n",
       "      <td>-0.017487</td>\n",
       "    </tr>\n",
       "    <tr>\n",
       "      <th>...</th>\n",
       "      <td>...</td>\n",
       "      <td>...</td>\n",
       "      <td>...</td>\n",
       "      <td>...</td>\n",
       "      <td>...</td>\n",
       "      <td>...</td>\n",
       "      <td>...</td>\n",
       "      <td>...</td>\n",
       "      <td>...</td>\n",
       "      <td>...</td>\n",
       "      <td>...</td>\n",
       "      <td>...</td>\n",
       "      <td>...</td>\n",
       "      <td>...</td>\n",
       "      <td>...</td>\n",
       "      <td>...</td>\n",
       "      <td>...</td>\n",
       "      <td>...</td>\n",
       "      <td>...</td>\n",
       "      <td>...</td>\n",
       "      <td>...</td>\n",
       "    </tr>\n",
       "    <tr>\n",
       "      <th>246</th>\n",
       "      <td>2018-12-20 00:00:00+00:00</td>\n",
       "      <td>0.015165</td>\n",
       "      <td>-0.037571</td>\n",
       "      <td>-0.002601</td>\n",
       "      <td>-0.028820</td>\n",
       "      <td>0.010050</td>\n",
       "      <td>-0.004556</td>\n",
       "      <td>0.003379</td>\n",
       "      <td>-0.003298</td>\n",
       "      <td>-0.005753</td>\n",
       "      <td>...</td>\n",
       "      <td>-0.004351</td>\n",
       "      <td>-0.013088</td>\n",
       "      <td>-0.028882</td>\n",
       "      <td>-0.021528</td>\n",
       "      <td>0.000896</td>\n",
       "      <td>-0.024541</td>\n",
       "      <td>-0.013245</td>\n",
       "      <td>0.018780</td>\n",
       "      <td>0.012579</td>\n",
       "      <td>0.020409</td>\n",
       "    </tr>\n",
       "    <tr>\n",
       "      <th>247</th>\n",
       "      <td>2018-12-21 00:00:00+00:00</td>\n",
       "      <td>0.003993</td>\n",
       "      <td>-0.028399</td>\n",
       "      <td>0.015504</td>\n",
       "      <td>0.028021</td>\n",
       "      <td>0.000000</td>\n",
       "      <td>-0.004577</td>\n",
       "      <td>0.013796</td>\n",
       "      <td>0.004238</td>\n",
       "      <td>-0.007722</td>\n",
       "      <td>...</td>\n",
       "      <td>0.002903</td>\n",
       "      <td>-0.019347</td>\n",
       "      <td>-0.002079</td>\n",
       "      <td>0.005168</td>\n",
       "      <td>-0.001792</td>\n",
       "      <td>-0.014599</td>\n",
       "      <td>0.000000</td>\n",
       "      <td>-0.009346</td>\n",
       "      <td>0.033797</td>\n",
       "      <td>0.093165</td>\n",
       "    </tr>\n",
       "    <tr>\n",
       "      <th>248</th>\n",
       "      <td>2018-12-24 00:00:00+00:00</td>\n",
       "      <td>-0.006091</td>\n",
       "      <td>-0.053121</td>\n",
       "      <td>-0.012903</td>\n",
       "      <td>-0.007104</td>\n",
       "      <td>-0.012073</td>\n",
       "      <td>0.009132</td>\n",
       "      <td>-0.016777</td>\n",
       "      <td>-0.022815</td>\n",
       "      <td>0.000000</td>\n",
       "      <td>...</td>\n",
       "      <td>-0.004357</td>\n",
       "      <td>-0.036051</td>\n",
       "      <td>-0.017493</td>\n",
       "      <td>-0.021887</td>\n",
       "      <td>0.013139</td>\n",
       "      <td>-0.012685</td>\n",
       "      <td>-0.052251</td>\n",
       "      <td>-0.018958</td>\n",
       "      <td>-0.033797</td>\n",
       "      <td>0.012195</td>\n",
       "    </tr>\n",
       "    <tr>\n",
       "      <th>249</th>\n",
       "      <td>2018-12-27 00:00:00+00:00</td>\n",
       "      <td>-0.006512</td>\n",
       "      <td>0.014158</td>\n",
       "      <td>-0.007823</td>\n",
       "      <td>-0.014479</td>\n",
       "      <td>0.022023</td>\n",
       "      <td>-0.013730</td>\n",
       "      <td>-0.003190</td>\n",
       "      <td>-0.018928</td>\n",
       "      <td>-0.005831</td>\n",
       "      <td>...</td>\n",
       "      <td>-0.009506</td>\n",
       "      <td>-0.000633</td>\n",
       "      <td>-0.023570</td>\n",
       "      <td>-0.001054</td>\n",
       "      <td>-0.010006</td>\n",
       "      <td>-0.010695</td>\n",
       "      <td>0.016466</td>\n",
       "      <td>0.028304</td>\n",
       "      <td>0.015504</td>\n",
       "      <td>0.003026</td>\n",
       "    </tr>\n",
       "    <tr>\n",
       "      <th>250</th>\n",
       "      <td>2018-12-28 00:00:00+00:00</td>\n",
       "      <td>-0.002116</td>\n",
       "      <td>0.023559</td>\n",
       "      <td>0.013004</td>\n",
       "      <td>0.023066</td>\n",
       "      <td>-0.004963</td>\n",
       "      <td>0.004598</td>\n",
       "      <td>0.032996</td>\n",
       "      <td>0.014109</td>\n",
       "      <td>0.005831</td>\n",
       "      <td>...</td>\n",
       "      <td>0.025391</td>\n",
       "      <td>0.008827</td>\n",
       "      <td>0.027093</td>\n",
       "      <td>0.019844</td>\n",
       "      <td>0.017060</td>\n",
       "      <td>0.023380</td>\n",
       "      <td>-0.083819</td>\n",
       "      <td>0.000000</td>\n",
       "      <td>0.027316</td>\n",
       "      <td>0.055815</td>\n",
       "    </tr>\n",
       "  </tbody>\n",
       "</table>\n",
       "<p>251 rows × 530 columns</p>\n",
       "</div>"
      ],
      "text/plain": [
       "                          Date       3IN       888      AAIF       AAL  \\\n",
       "0    2018-01-03 00:00:00+00:00  0.009500  0.006449  0.006889 -0.008057   \n",
       "1    2018-01-04 00:00:00+00:00  0.002360  0.000714  0.013637  0.014307   \n",
       "2    2018-01-05 00:00:00+00:00  0.007050  0.007821  0.004505 -0.000997   \n",
       "3    2018-01-08 00:00:00+00:00  0.002342 -0.009249  0.011173  0.014611   \n",
       "4    2018-01-09 00:00:00+00:00  0.002333  0.015603 -0.004454  0.030269   \n",
       "..                         ...       ...       ...       ...       ...   \n",
       "246  2018-12-20 00:00:00+00:00  0.015165 -0.037571 -0.002601 -0.028820   \n",
       "247  2018-12-21 00:00:00+00:00  0.003993 -0.028399  0.015504  0.028021   \n",
       "248  2018-12-24 00:00:00+00:00 -0.006091 -0.053121 -0.012903 -0.007104   \n",
       "249  2018-12-27 00:00:00+00:00 -0.006512  0.014158 -0.007823 -0.014479   \n",
       "250  2018-12-28 00:00:00+00:00 -0.002116  0.023559  0.013004  0.023066   \n",
       "\n",
       "          AAS       ABD      ABDN       ABF      ACIC  ...      WIZZ  \\\n",
       "0    0.009434  0.004149 -0.006840  0.020656  0.011209  ... -0.002165   \n",
       "1    0.002345  0.010341  0.012700  0.001761  0.009509  ... -0.020523   \n",
       "2   -0.002345  0.004107 -0.000467  0.013976  0.014096  ...  0.011818   \n",
       "3    0.000000  0.004090  0.010235 -0.010464  0.000000  ...  0.002183   \n",
       "4   -0.004706  0.004073  0.006689 -0.003513  0.000000  ... -0.004098   \n",
       "..        ...       ...       ...       ...       ...  ...       ...   \n",
       "246  0.010050 -0.004556  0.003379 -0.003298 -0.005753  ... -0.004351   \n",
       "247  0.000000 -0.004577  0.013796  0.004238 -0.007722  ...  0.002903   \n",
       "248 -0.012073  0.009132 -0.016777 -0.022815  0.000000  ... -0.004357   \n",
       "249  0.022023 -0.013730 -0.003190 -0.018928 -0.005831  ... -0.009506   \n",
       "250 -0.004963  0.004598  0.032996  0.014109  0.005831  ...  0.025391   \n",
       "\n",
       "          WKP       WPP      WTAN       WTB       WWH       XAR       XPP  \\\n",
       "0    0.007114 -0.025385  0.005561  0.001007  0.007905  0.006901  0.014389   \n",
       "1   -0.001013  0.012204  0.011030  0.006771  0.007843  0.002747  0.028171   \n",
       "2    0.026508  0.015423  0.003650 -0.001751  0.005842  0.031063  0.000000   \n",
       "3    0.002957 -0.007870  0.000000 -0.009560 -0.007797  0.075532  0.013794   \n",
       "4   -0.005923  0.008243  0.005450 -0.003292  0.017459 -0.026235 -0.002744   \n",
       "..        ...       ...       ...       ...       ...       ...       ...   \n",
       "246 -0.013088 -0.028882 -0.021528  0.000896 -0.024541 -0.013245  0.018780   \n",
       "247 -0.019347 -0.002079  0.005168 -0.001792 -0.014599  0.000000 -0.009346   \n",
       "248 -0.036051 -0.017493 -0.021887  0.013139 -0.012685 -0.052251 -0.018958   \n",
       "249 -0.000633 -0.023570 -0.001054 -0.010006 -0.010695  0.016466  0.028304   \n",
       "250  0.008827  0.027093  0.019844  0.017060  0.023380 -0.083819  0.000000   \n",
       "\n",
       "          XPS       ZTF  \n",
       "0    0.002635  0.008762  \n",
       "1   -0.007926 -0.005467  \n",
       "2    0.002649  0.009820  \n",
       "3   -0.002649  0.002169  \n",
       "4    0.002649 -0.017487  \n",
       "..        ...       ...  \n",
       "246  0.012579  0.020409  \n",
       "247  0.033797  0.093165  \n",
       "248 -0.033797  0.012195  \n",
       "249  0.015504  0.003026  \n",
       "250  0.027316  0.055815  \n",
       "\n",
       "[251 rows x 530 columns]"
      ]
     },
     "execution_count": 3,
     "metadata": {},
     "output_type": "execute_result"
    }
   ],
   "source": [
    "log_returns"
   ]
  },
  {
   "cell_type": "code",
   "execution_count": 4,
   "metadata": {},
   "outputs": [
    {
     "name": "stderr",
     "output_type": "stream",
     "text": [
      "C:\\Users\\ciril\\AppData\\Local\\Temp/ipykernel_7844/2909221713.py:2: FutureWarning: Dropping of nuisance columns in DataFrame reductions (with 'numeric_only=None') is deprecated; in a future version this will raise TypeError.  Select only valid columns before calling the reduction.\n",
      "  stats_all['Expected returns'] = log_returns.mean()\n",
      "C:\\Users\\ciril\\AppData\\Local\\Temp/ipykernel_7844/2909221713.py:3: FutureWarning: Dropping of nuisance columns in DataFrame reductions (with 'numeric_only=None') is deprecated; in a future version this will raise TypeError.  Select only valid columns before calling the reduction.\n",
      "  stats_all['Standard deviation'] = log_returns.std()\n"
     ]
    },
    {
     "data": {
      "text/html": [
       "<div>\n",
       "<style scoped>\n",
       "    .dataframe tbody tr th:only-of-type {\n",
       "        vertical-align: middle;\n",
       "    }\n",
       "\n",
       "    .dataframe tbody tr th {\n",
       "        vertical-align: top;\n",
       "    }\n",
       "\n",
       "    .dataframe thead th {\n",
       "        text-align: right;\n",
       "    }\n",
       "</style>\n",
       "<table border=\"1\" class=\"dataframe\">\n",
       "  <thead>\n",
       "    <tr style=\"text-align: right;\">\n",
       "      <th></th>\n",
       "      <th>Expected returns</th>\n",
       "      <th>Standard deviation</th>\n",
       "    </tr>\n",
       "  </thead>\n",
       "  <tbody>\n",
       "    <tr>\n",
       "      <th>3IN</th>\n",
       "      <td>0.000758</td>\n",
       "      <td>0.008050</td>\n",
       "    </tr>\n",
       "    <tr>\n",
       "      <th>888</th>\n",
       "      <td>-0.001853</td>\n",
       "      <td>0.021774</td>\n",
       "    </tr>\n",
       "    <tr>\n",
       "      <th>AAIF</th>\n",
       "      <td>-0.000280</td>\n",
       "      <td>0.010566</td>\n",
       "    </tr>\n",
       "    <tr>\n",
       "      <th>AAL</th>\n",
       "      <td>0.000566</td>\n",
       "      <td>0.022364</td>\n",
       "    </tr>\n",
       "    <tr>\n",
       "      <th>AAS</th>\n",
       "      <td>-0.000114</td>\n",
       "      <td>0.009960</td>\n",
       "    </tr>\n",
       "    <tr>\n",
       "      <th>...</th>\n",
       "      <td>...</td>\n",
       "      <td>...</td>\n",
       "    </tr>\n",
       "    <tr>\n",
       "      <th>WWH</th>\n",
       "      <td>-0.000227</td>\n",
       "      <td>0.011628</td>\n",
       "    </tr>\n",
       "    <tr>\n",
       "      <th>XAR</th>\n",
       "      <td>-0.003489</td>\n",
       "      <td>0.038060</td>\n",
       "    </tr>\n",
       "    <tr>\n",
       "      <th>XPP</th>\n",
       "      <td>-0.001775</td>\n",
       "      <td>0.018614</td>\n",
       "    </tr>\n",
       "    <tr>\n",
       "      <th>XPS</th>\n",
       "      <td>-0.000405</td>\n",
       "      <td>0.019001</td>\n",
       "    </tr>\n",
       "    <tr>\n",
       "      <th>ZTF</th>\n",
       "      <td>0.001764</td>\n",
       "      <td>0.018678</td>\n",
       "    </tr>\n",
       "  </tbody>\n",
       "</table>\n",
       "<p>529 rows × 2 columns</p>\n",
       "</div>"
      ],
      "text/plain": [
       "      Expected returns  Standard deviation\n",
       "3IN           0.000758            0.008050\n",
       "888          -0.001853            0.021774\n",
       "AAIF         -0.000280            0.010566\n",
       "AAL           0.000566            0.022364\n",
       "AAS          -0.000114            0.009960\n",
       "...                ...                 ...\n",
       "WWH          -0.000227            0.011628\n",
       "XAR          -0.003489            0.038060\n",
       "XPP          -0.001775            0.018614\n",
       "XPS          -0.000405            0.019001\n",
       "ZTF           0.001764            0.018678\n",
       "\n",
       "[529 rows x 2 columns]"
      ]
     },
     "execution_count": 4,
     "metadata": {},
     "output_type": "execute_result"
    }
   ],
   "source": [
    "\n",
    "stats_all = pd.DataFrame(columns = ['Expected returns', 'Standard deviation'])\n",
    "stats_all['Expected returns'] = log_returns.mean()\n",
    "stats_all['Standard deviation'] = log_returns.std()\n",
    "stats_all"
   ]
  },
  {
   "cell_type": "code",
   "execution_count": 6,
   "metadata": {},
   "outputs": [
    {
     "data": {
      "text/plain": [
       "0.0024678492883447338"
      ]
     },
     "execution_count": 6,
     "metadata": {},
     "output_type": "execute_result"
    }
   ],
   "source": [
    "bonds = pd.read_csv('data/bonds.csv')\n",
    "bonds.set_index('Дата', inplace=True)\n",
    "bonds.drop(columns = ['Цена', 'Макс.', 'Мин.', 'Изм. %'], inplace=True)\n",
    "bonds_l = bonds['Откр.'].tolist()\n",
    "bonds_l = [i.replace(',', '.') for i in bonds_l]\n",
    "bonds_l = pd.Series(bonds_l)\n",
    "#bonds = bonds.append(bonds_l.T, ignore_index=True)\n",
    "#bonds['Open'] = bonds_l\n",
    "#bonds.drop(['Откр.'])\n",
    "bonds_l = bonds_l.iloc[::-1].astype(float)\n",
    "bonds_returns = np.log(bonds_l / bonds_l.shift(1)).dropna()\n",
    "Ef = bonds_returns.mean()\n",
    "Ef"
   ]
  },
  {
   "cell_type": "code",
   "execution_count": 15,
   "metadata": {},
   "outputs": [
    {
     "data": {
      "text/plain": [
       "289   -0.043992\n",
       "288    0.128891\n",
       "287   -0.014052\n",
       "286    0.018692\n",
       "285    0.013793\n",
       "         ...   \n",
       "4     -0.006333\n",
       "3     -0.052163\n",
       "2      0.116146\n",
       "1      0.011848\n",
       "0     -0.049497\n",
       "Length: 290, dtype: float64"
      ]
     },
     "execution_count": 15,
     "metadata": {},
     "output_type": "execute_result"
    }
   ],
   "source": [
    "bonds_returns"
   ]
  },
  {
   "cell_type": "code",
   "execution_count": 7,
   "metadata": {},
   "outputs": [
    {
     "name": "stderr",
     "output_type": "stream",
     "text": [
      "C:\\Users\\ciril\\AppData\\Local\\Temp/ipykernel_7844/1339920506.py:1: FutureWarning: Dropping of nuisance columns in DataFrame reductions (with 'numeric_only=None') is deprecated; in a future version this will raise TypeError.  Select only valid columns before calling the reduction.\n",
      "  stats_all['Sharp Ratio'] = (log_returns.mean() - Ef) / log_returns.std()\n"
     ]
    },
    {
     "data": {
      "text/html": [
       "<div>\n",
       "<style scoped>\n",
       "    .dataframe tbody tr th:only-of-type {\n",
       "        vertical-align: middle;\n",
       "    }\n",
       "\n",
       "    .dataframe tbody tr th {\n",
       "        vertical-align: top;\n",
       "    }\n",
       "\n",
       "    .dataframe thead th {\n",
       "        text-align: right;\n",
       "    }\n",
       "</style>\n",
       "<table border=\"1\" class=\"dataframe\">\n",
       "  <thead>\n",
       "    <tr style=\"text-align: right;\">\n",
       "      <th></th>\n",
       "      <th>Expected returns</th>\n",
       "      <th>Standard deviation</th>\n",
       "      <th>Sharp Ratio</th>\n",
       "    </tr>\n",
       "  </thead>\n",
       "  <tbody>\n",
       "    <tr>\n",
       "      <th>PNL</th>\n",
       "      <td>0.006683</td>\n",
       "      <td>0.053384</td>\n",
       "      <td>0.078959</td>\n",
       "    </tr>\n",
       "    <tr>\n",
       "      <th>OCDO</th>\n",
       "      <td>0.002674</td>\n",
       "      <td>0.038284</td>\n",
       "      <td>0.005393</td>\n",
       "    </tr>\n",
       "    <tr>\n",
       "      <th>PLUS</th>\n",
       "      <td>0.002403</td>\n",
       "      <td>0.032382</td>\n",
       "      <td>-0.002014</td>\n",
       "    </tr>\n",
       "    <tr>\n",
       "      <th>GFRD</th>\n",
       "      <td>0.001622</td>\n",
       "      <td>0.053288</td>\n",
       "      <td>-0.015880</td>\n",
       "    </tr>\n",
       "    <tr>\n",
       "      <th>NANO</th>\n",
       "      <td>0.001548</td>\n",
       "      <td>0.039311</td>\n",
       "      <td>-0.023408</td>\n",
       "    </tr>\n",
       "    <tr>\n",
       "      <th>HIK</th>\n",
       "      <td>0.001741</td>\n",
       "      <td>0.025855</td>\n",
       "      <td>-0.028100</td>\n",
       "    </tr>\n",
       "    <tr>\n",
       "      <th>ZTF</th>\n",
       "      <td>0.001764</td>\n",
       "      <td>0.018678</td>\n",
       "      <td>-0.037664</td>\n",
       "    </tr>\n",
       "    <tr>\n",
       "      <th>DEC</th>\n",
       "      <td>0.001494</td>\n",
       "      <td>0.025162</td>\n",
       "      <td>-0.038713</td>\n",
       "    </tr>\n",
       "    <tr>\n",
       "      <th>OXB</th>\n",
       "      <td>0.001243</td>\n",
       "      <td>0.029698</td>\n",
       "      <td>-0.041251</td>\n",
       "    </tr>\n",
       "    <tr>\n",
       "      <th>FUTR</th>\n",
       "      <td>0.001091</td>\n",
       "      <td>0.028295</td>\n",
       "      <td>-0.048668</td>\n",
       "    </tr>\n",
       "    <tr>\n",
       "      <th>LTI</th>\n",
       "      <td>0.001487</td>\n",
       "      <td>0.019190</td>\n",
       "      <td>-0.051125</td>\n",
       "    </tr>\n",
       "    <tr>\n",
       "      <th>KNOS</th>\n",
       "      <td>0.000840</td>\n",
       "      <td>0.030574</td>\n",
       "      <td>-0.053232</td>\n",
       "    </tr>\n",
       "    <tr>\n",
       "      <th>AO</th>\n",
       "      <td>0.000629</td>\n",
       "      <td>0.031239</td>\n",
       "      <td>-0.058867</td>\n",
       "    </tr>\n",
       "    <tr>\n",
       "      <th>GROW</th>\n",
       "      <td>0.001212</td>\n",
       "      <td>0.021048</td>\n",
       "      <td>-0.059675</td>\n",
       "    </tr>\n",
       "    <tr>\n",
       "      <th>DRX</th>\n",
       "      <td>0.001258</td>\n",
       "      <td>0.018963</td>\n",
       "      <td>-0.063780</td>\n",
       "    </tr>\n",
       "    <tr>\n",
       "      <th>LIO</th>\n",
       "      <td>0.000908</td>\n",
       "      <td>0.023985</td>\n",
       "      <td>-0.065021</td>\n",
       "    </tr>\n",
       "    <tr>\n",
       "      <th>CARR</th>\n",
       "      <td>0.000749</td>\n",
       "      <td>0.024296</td>\n",
       "      <td>-0.070729</td>\n",
       "    </tr>\n",
       "    <tr>\n",
       "      <th>PFG</th>\n",
       "      <td>-0.000621</td>\n",
       "      <td>0.042141</td>\n",
       "      <td>-0.073308</td>\n",
       "    </tr>\n",
       "    <tr>\n",
       "      <th>SYNC</th>\n",
       "      <td>0.001163</td>\n",
       "      <td>0.017727</td>\n",
       "      <td>-0.073634</td>\n",
       "    </tr>\n",
       "    <tr>\n",
       "      <th>PRTC</th>\n",
       "      <td>0.000560</td>\n",
       "      <td>0.025519</td>\n",
       "      <td>-0.074750</td>\n",
       "    </tr>\n",
       "  </tbody>\n",
       "</table>\n",
       "</div>"
      ],
      "text/plain": [
       "      Expected returns  Standard deviation  Sharp Ratio\n",
       "PNL           0.006683            0.053384     0.078959\n",
       "OCDO          0.002674            0.038284     0.005393\n",
       "PLUS          0.002403            0.032382    -0.002014\n",
       "GFRD          0.001622            0.053288    -0.015880\n",
       "NANO          0.001548            0.039311    -0.023408\n",
       "HIK           0.001741            0.025855    -0.028100\n",
       "ZTF           0.001764            0.018678    -0.037664\n",
       "DEC           0.001494            0.025162    -0.038713\n",
       "OXB           0.001243            0.029698    -0.041251\n",
       "FUTR          0.001091            0.028295    -0.048668\n",
       "LTI           0.001487            0.019190    -0.051125\n",
       "KNOS          0.000840            0.030574    -0.053232\n",
       "AO            0.000629            0.031239    -0.058867\n",
       "GROW          0.001212            0.021048    -0.059675\n",
       "DRX           0.001258            0.018963    -0.063780\n",
       "LIO           0.000908            0.023985    -0.065021\n",
       "CARR          0.000749            0.024296    -0.070729\n",
       "PFG          -0.000621            0.042141    -0.073308\n",
       "SYNC          0.001163            0.017727    -0.073634\n",
       "PRTC          0.000560            0.025519    -0.074750"
      ]
     },
     "execution_count": 7,
     "metadata": {},
     "output_type": "execute_result"
    }
   ],
   "source": [
    "stats_all['Sharp Ratio'] = (log_returns.mean() - Ef) / log_returns.std()\n",
    "stats20 = stats_all.sort_values(by=['Sharp Ratio'], ascending=False)\n",
    "stats20 = stats20.head(20)\n",
    "stats20"
   ]
  },
  {
   "cell_type": "code",
   "execution_count": 9,
   "metadata": {},
   "outputs": [
    {
     "data": {
      "text/html": [
       "<div>\n",
       "<style scoped>\n",
       "    .dataframe tbody tr th:only-of-type {\n",
       "        vertical-align: middle;\n",
       "    }\n",
       "\n",
       "    .dataframe tbody tr th {\n",
       "        vertical-align: top;\n",
       "    }\n",
       "\n",
       "    .dataframe thead th {\n",
       "        text-align: right;\n",
       "    }\n",
       "</style>\n",
       "<table border=\"1\" class=\"dataframe\">\n",
       "  <thead>\n",
       "    <tr style=\"text-align: right;\">\n",
       "      <th></th>\n",
       "      <th>PNL</th>\n",
       "      <th>OCDO</th>\n",
       "      <th>PLUS</th>\n",
       "      <th>GFRD</th>\n",
       "      <th>NANO</th>\n",
       "      <th>HIK</th>\n",
       "      <th>ZTF</th>\n",
       "      <th>DEC</th>\n",
       "      <th>OXB</th>\n",
       "      <th>FUTR</th>\n",
       "      <th>LTI</th>\n",
       "      <th>KNOS</th>\n",
       "      <th>AO</th>\n",
       "      <th>GROW</th>\n",
       "      <th>DRX</th>\n",
       "      <th>LIO</th>\n",
       "      <th>CARR</th>\n",
       "      <th>PFG</th>\n",
       "      <th>SYNC</th>\n",
       "      <th>PRTC</th>\n",
       "    </tr>\n",
       "  </thead>\n",
       "  <tbody>\n",
       "    <tr>\n",
       "      <th>0</th>\n",
       "      <td>0.000000</td>\n",
       "      <td>0.074836</td>\n",
       "      <td>0.221440</td>\n",
       "      <td>0.010035</td>\n",
       "      <td>0.011606</td>\n",
       "      <td>0.004951</td>\n",
       "      <td>0.008762</td>\n",
       "      <td>0.012626</td>\n",
       "      <td>-0.013882</td>\n",
       "      <td>0.000000</td>\n",
       "      <td>0.027108</td>\n",
       "      <td>0.000000</td>\n",
       "      <td>0.031110</td>\n",
       "      <td>0.000000</td>\n",
       "      <td>0.005130</td>\n",
       "      <td>-0.011276</td>\n",
       "      <td>-0.012024</td>\n",
       "      <td>0.003715</td>\n",
       "      <td>0.000000</td>\n",
       "      <td>0.039479</td>\n",
       "    </tr>\n",
       "    <tr>\n",
       "      <th>1</th>\n",
       "      <td>0.003665</td>\n",
       "      <td>0.034390</td>\n",
       "      <td>0.060838</td>\n",
       "      <td>0.005362</td>\n",
       "      <td>0.011472</td>\n",
       "      <td>0.000898</td>\n",
       "      <td>-0.005467</td>\n",
       "      <td>0.009988</td>\n",
       "      <td>0.068563</td>\n",
       "      <td>-0.018780</td>\n",
       "      <td>0.000000</td>\n",
       "      <td>0.038409</td>\n",
       "      <td>0.031918</td>\n",
       "      <td>0.000000</td>\n",
       "      <td>0.020977</td>\n",
       "      <td>0.010257</td>\n",
       "      <td>0.000000</td>\n",
       "      <td>0.003484</td>\n",
       "      <td>0.022087</td>\n",
       "      <td>0.006431</td>\n",
       "    </tr>\n",
       "    <tr>\n",
       "      <th>2</th>\n",
       "      <td>0.001219</td>\n",
       "      <td>-0.001371</td>\n",
       "      <td>-0.015518</td>\n",
       "      <td>0.006852</td>\n",
       "      <td>0.053667</td>\n",
       "      <td>0.012926</td>\n",
       "      <td>0.009820</td>\n",
       "      <td>0.000000</td>\n",
       "      <td>0.071667</td>\n",
       "      <td>-0.016727</td>\n",
       "      <td>0.000000</td>\n",
       "      <td>0.000000</td>\n",
       "      <td>0.046044</td>\n",
       "      <td>0.000000</td>\n",
       "      <td>0.009263</td>\n",
       "      <td>0.005089</td>\n",
       "      <td>-0.024491</td>\n",
       "      <td>0.000000</td>\n",
       "      <td>0.021609</td>\n",
       "      <td>0.012739</td>\n",
       "    </tr>\n",
       "    <tr>\n",
       "      <th>3</th>\n",
       "      <td>-0.002439</td>\n",
       "      <td>-0.018934</td>\n",
       "      <td>-0.010480</td>\n",
       "      <td>-0.009912</td>\n",
       "      <td>-0.010870</td>\n",
       "      <td>-0.045298</td>\n",
       "      <td>0.002169</td>\n",
       "      <td>-0.006231</td>\n",
       "      <td>0.034898</td>\n",
       "      <td>0.014354</td>\n",
       "      <td>0.001162</td>\n",
       "      <td>-0.002903</td>\n",
       "      <td>0.016529</td>\n",
       "      <td>0.000000</td>\n",
       "      <td>0.014085</td>\n",
       "      <td>0.018109</td>\n",
       "      <td>0.024491</td>\n",
       "      <td>0.026176</td>\n",
       "      <td>0.014151</td>\n",
       "      <td>-0.011138</td>\n",
       "    </tr>\n",
       "    <tr>\n",
       "      <th>4</th>\n",
       "      <td>0.000000</td>\n",
       "      <td>-0.010781</td>\n",
       "      <td>-0.005282</td>\n",
       "      <td>-0.004608</td>\n",
       "      <td>0.018051</td>\n",
       "      <td>-0.003714</td>\n",
       "      <td>-0.017487</td>\n",
       "      <td>0.006231</td>\n",
       "      <td>-0.012716</td>\n",
       "      <td>-0.004762</td>\n",
       "      <td>0.016129</td>\n",
       "      <td>0.020145</td>\n",
       "      <td>0.032261</td>\n",
       "      <td>0.000000</td>\n",
       "      <td>-0.000700</td>\n",
       "      <td>0.024620</td>\n",
       "      <td>0.126704</td>\n",
       "      <td>-0.012145</td>\n",
       "      <td>-0.011779</td>\n",
       "      <td>-0.003205</td>\n",
       "    </tr>\n",
       "    <tr>\n",
       "      <th>...</th>\n",
       "      <td>...</td>\n",
       "      <td>...</td>\n",
       "      <td>...</td>\n",
       "      <td>...</td>\n",
       "      <td>...</td>\n",
       "      <td>...</td>\n",
       "      <td>...</td>\n",
       "      <td>...</td>\n",
       "      <td>...</td>\n",
       "      <td>...</td>\n",
       "      <td>...</td>\n",
       "      <td>...</td>\n",
       "      <td>...</td>\n",
       "      <td>...</td>\n",
       "      <td>...</td>\n",
       "      <td>...</td>\n",
       "      <td>...</td>\n",
       "      <td>...</td>\n",
       "      <td>...</td>\n",
       "      <td>...</td>\n",
       "    </tr>\n",
       "    <tr>\n",
       "      <th>246</th>\n",
       "      <td>-0.001268</td>\n",
       "      <td>-0.030009</td>\n",
       "      <td>-0.031480</td>\n",
       "      <td>0.021868</td>\n",
       "      <td>-0.002670</td>\n",
       "      <td>-0.047787</td>\n",
       "      <td>0.020409</td>\n",
       "      <td>-0.004454</td>\n",
       "      <td>-0.016727</td>\n",
       "      <td>-0.008247</td>\n",
       "      <td>0.006615</td>\n",
       "      <td>0.004988</td>\n",
       "      <td>0.026710</td>\n",
       "      <td>0.000000</td>\n",
       "      <td>-0.005543</td>\n",
       "      <td>0.007092</td>\n",
       "      <td>-0.009901</td>\n",
       "      <td>-0.016988</td>\n",
       "      <td>-0.003854</td>\n",
       "      <td>-0.014185</td>\n",
       "    </tr>\n",
       "    <tr>\n",
       "      <th>247</th>\n",
       "      <td>0.000000</td>\n",
       "      <td>0.019153</td>\n",
       "      <td>0.001559</td>\n",
       "      <td>-0.009193</td>\n",
       "      <td>-0.027102</td>\n",
       "      <td>-0.053182</td>\n",
       "      <td>0.093165</td>\n",
       "      <td>0.026433</td>\n",
       "      <td>-0.028465</td>\n",
       "      <td>0.012346</td>\n",
       "      <td>-0.028988</td>\n",
       "      <td>0.071973</td>\n",
       "      <td>-0.049255</td>\n",
       "      <td>0.018519</td>\n",
       "      <td>-0.010617</td>\n",
       "      <td>0.041528</td>\n",
       "      <td>-0.032016</td>\n",
       "      <td>0.029627</td>\n",
       "      <td>-0.009699</td>\n",
       "      <td>0.000000</td>\n",
       "    </tr>\n",
       "    <tr>\n",
       "      <th>248</th>\n",
       "      <td>-0.012771</td>\n",
       "      <td>-0.005995</td>\n",
       "      <td>0.013921</td>\n",
       "      <td>-0.000840</td>\n",
       "      <td>0.056089</td>\n",
       "      <td>0.018731</td>\n",
       "      <td>0.012195</td>\n",
       "      <td>-0.013129</td>\n",
       "      <td>-0.017195</td>\n",
       "      <td>0.000000</td>\n",
       "      <td>-0.039221</td>\n",
       "      <td>-0.044978</td>\n",
       "      <td>0.008110</td>\n",
       "      <td>-0.013857</td>\n",
       "      <td>-0.002813</td>\n",
       "      <td>-0.027493</td>\n",
       "      <td>0.032016</td>\n",
       "      <td>-0.019884</td>\n",
       "      <td>0.003891</td>\n",
       "      <td>-0.017291</td>\n",
       "    </tr>\n",
       "    <tr>\n",
       "      <th>249</th>\n",
       "      <td>0.000000</td>\n",
       "      <td>-0.020069</td>\n",
       "      <td>0.026527</td>\n",
       "      <td>-0.031585</td>\n",
       "      <td>-0.019673</td>\n",
       "      <td>-0.013343</td>\n",
       "      <td>0.003026</td>\n",
       "      <td>0.013129</td>\n",
       "      <td>0.000625</td>\n",
       "      <td>-0.031155</td>\n",
       "      <td>0.018649</td>\n",
       "      <td>-0.007290</td>\n",
       "      <td>0.038039</td>\n",
       "      <td>0.009259</td>\n",
       "      <td>-0.019915</td>\n",
       "      <td>0.003478</td>\n",
       "      <td>0.043803</td>\n",
       "      <td>-0.037754</td>\n",
       "      <td>0.005808</td>\n",
       "      <td>-0.007294</td>\n",
       "    </tr>\n",
       "    <tr>\n",
       "      <th>250</th>\n",
       "      <td>0.005128</td>\n",
       "      <td>0.023983</td>\n",
       "      <td>0.041032</td>\n",
       "      <td>0.083971</td>\n",
       "      <td>0.003966</td>\n",
       "      <td>0.005656</td>\n",
       "      <td>0.055815</td>\n",
       "      <td>-0.004357</td>\n",
       "      <td>0.005761</td>\n",
       "      <td>0.014660</td>\n",
       "      <td>0.073448</td>\n",
       "      <td>-0.017221</td>\n",
       "      <td>-0.020425</td>\n",
       "      <td>-0.023311</td>\n",
       "      <td>0.030563</td>\n",
       "      <td>0.030772</td>\n",
       "      <td>-0.068993</td>\n",
       "      <td>0.027661</td>\n",
       "      <td>0.030421</td>\n",
       "      <td>0.004383</td>\n",
       "    </tr>\n",
       "  </tbody>\n",
       "</table>\n",
       "<p>251 rows × 20 columns</p>\n",
       "</div>"
      ],
      "text/plain": [
       "          PNL      OCDO      PLUS      GFRD      NANO       HIK       ZTF  \\\n",
       "0    0.000000  0.074836  0.221440  0.010035  0.011606  0.004951  0.008762   \n",
       "1    0.003665  0.034390  0.060838  0.005362  0.011472  0.000898 -0.005467   \n",
       "2    0.001219 -0.001371 -0.015518  0.006852  0.053667  0.012926  0.009820   \n",
       "3   -0.002439 -0.018934 -0.010480 -0.009912 -0.010870 -0.045298  0.002169   \n",
       "4    0.000000 -0.010781 -0.005282 -0.004608  0.018051 -0.003714 -0.017487   \n",
       "..        ...       ...       ...       ...       ...       ...       ...   \n",
       "246 -0.001268 -0.030009 -0.031480  0.021868 -0.002670 -0.047787  0.020409   \n",
       "247  0.000000  0.019153  0.001559 -0.009193 -0.027102 -0.053182  0.093165   \n",
       "248 -0.012771 -0.005995  0.013921 -0.000840  0.056089  0.018731  0.012195   \n",
       "249  0.000000 -0.020069  0.026527 -0.031585 -0.019673 -0.013343  0.003026   \n",
       "250  0.005128  0.023983  0.041032  0.083971  0.003966  0.005656  0.055815   \n",
       "\n",
       "          DEC       OXB      FUTR       LTI      KNOS        AO      GROW  \\\n",
       "0    0.012626 -0.013882  0.000000  0.027108  0.000000  0.031110  0.000000   \n",
       "1    0.009988  0.068563 -0.018780  0.000000  0.038409  0.031918  0.000000   \n",
       "2    0.000000  0.071667 -0.016727  0.000000  0.000000  0.046044  0.000000   \n",
       "3   -0.006231  0.034898  0.014354  0.001162 -0.002903  0.016529  0.000000   \n",
       "4    0.006231 -0.012716 -0.004762  0.016129  0.020145  0.032261  0.000000   \n",
       "..        ...       ...       ...       ...       ...       ...       ...   \n",
       "246 -0.004454 -0.016727 -0.008247  0.006615  0.004988  0.026710  0.000000   \n",
       "247  0.026433 -0.028465  0.012346 -0.028988  0.071973 -0.049255  0.018519   \n",
       "248 -0.013129 -0.017195  0.000000 -0.039221 -0.044978  0.008110 -0.013857   \n",
       "249  0.013129  0.000625 -0.031155  0.018649 -0.007290  0.038039  0.009259   \n",
       "250 -0.004357  0.005761  0.014660  0.073448 -0.017221 -0.020425 -0.023311   \n",
       "\n",
       "          DRX       LIO      CARR       PFG      SYNC      PRTC  \n",
       "0    0.005130 -0.011276 -0.012024  0.003715  0.000000  0.039479  \n",
       "1    0.020977  0.010257  0.000000  0.003484  0.022087  0.006431  \n",
       "2    0.009263  0.005089 -0.024491  0.000000  0.021609  0.012739  \n",
       "3    0.014085  0.018109  0.024491  0.026176  0.014151 -0.011138  \n",
       "4   -0.000700  0.024620  0.126704 -0.012145 -0.011779 -0.003205  \n",
       "..        ...       ...       ...       ...       ...       ...  \n",
       "246 -0.005543  0.007092 -0.009901 -0.016988 -0.003854 -0.014185  \n",
       "247 -0.010617  0.041528 -0.032016  0.029627 -0.009699  0.000000  \n",
       "248 -0.002813 -0.027493  0.032016 -0.019884  0.003891 -0.017291  \n",
       "249 -0.019915  0.003478  0.043803 -0.037754  0.005808 -0.007294  \n",
       "250  0.030563  0.030772 -0.068993  0.027661  0.030421  0.004383  \n",
       "\n",
       "[251 rows x 20 columns]"
      ]
     },
     "execution_count": 9,
     "metadata": {},
     "output_type": "execute_result"
    }
   ],
   "source": [
    "log_returns20 = log_returns[stats20.index]\n",
    "log_returns20"
   ]
  },
  {
   "cell_type": "markdown",
   "metadata": {},
   "source": [
    "## Подготовка модели"
   ]
  },
  {
   "cell_type": "markdown",
   "metadata": {},
   "source": [
    "По наблюдениям за  год оцените математические ожидания доходностей и матрицу ковариаций доходностей (используйте выборочную матрицу ковариаций). "
   ]
  },
  {
   "cell_type": "code",
   "execution_count": 12,
   "metadata": {},
   "outputs": [
    {
     "data": {
      "text/plain": [
       "((251, 20), (20,), (20, 20))"
      ]
     },
     "execution_count": 12,
     "metadata": {},
     "output_type": "execute_result"
    }
   ],
   "source": [
    "return_matrix, mean_vec, cov_matrix = log_returns20.values, stats20['Expected returns'], log_returns20.cov().values\n",
    "return_matrix.shape, mean_vec.shape, cov_matrix.shape\n"
   ]
  },
  {
   "cell_type": "code",
   "execution_count": 13,
   "metadata": {},
   "outputs": [
    {
     "name": "stdout",
     "output_type": "stream",
     "text": [
      "Conditional number:  13.07480255770502\n"
     ]
    }
   ],
   "source": [
    "eigenvec = np.linalg.eigvals(cov_matrix)\n",
    "# np.around(eigenvec,4)\n",
    "print('Conditional number: ', max(eigenvec) /  min(eigenvec))"
   ]
  },
  {
   "cell_type": "code",
   "execution_count": 29,
   "metadata": {},
   "outputs": [
    {
     "name": "stderr",
     "output_type": "stream",
     "text": [
      "C:\\Users\\ciril\\AppData\\Local\\Temp/ipykernel_7844/2694654448.py:2: TqdmDeprecationWarning: This function will be removed in tqdm==5.0.0\n",
      "Please use `tqdm.notebook.tqdm` instead of `tqdm.tqdm_notebook`\n",
      "  for i in tqdm_notebook(range(10000)):\n"
     ]
    },
    {
     "data": {
      "application/vnd.jupyter.widget-view+json": {
       "model_id": "9550e2cb06d24f188cf2678563fba0a4",
       "version_major": 2,
       "version_minor": 0
      },
      "text/plain": [
       "HBox(children=(FloatProgress(value=0.0, max=10000.0), HTML(value='')))"
      ]
     },
     "metadata": {},
     "output_type": "display_data"
    },
    {
     "name": "stdout",
     "output_type": "stream",
     "text": [
      "\n"
     ]
    }
   ],
   "source": [
    "gen_lst = []\n",
    "for i in tqdm_notebook(range(10000)):\n",
    "    stats_selected = stats_all.sample(40).sort_values(['Sharp Ratio'], ascending=False).iloc[:20]\n",
    "    selected20 = log_returns[stats_selected.index]\n",
    "    return_matrix, mean_vec, cov_matrix = selected20.values, stats_selected['Expected returns'], selected20.cov().values\n",
    "    eigenvec = np.linalg.eigvals(cov_matrix)\n",
    "    conditional_number = max(eigenvec) /  min(eigenvec)\n",
    "    gen_lst.append((conditional_number, selected20))\n"
   ]
  },
  {
   "cell_type": "code",
   "execution_count": 33,
   "metadata": {},
   "outputs": [
    {
     "name": "stdout",
     "output_type": "stream",
     "text": [
      "Conditional number:  7.704395051981892\n"
     ]
    }
   ],
   "source": [
    "gen_lst = sorted(gen_lst, key=lambda x: x[0])\n",
    "selected20 = gen_lst[0][1]\n",
    "return_matrix, mean_vec, cov_matrix = selected20.values, selected20.mean().values, selected20.cov().values\n",
    "eigenvec = np.linalg.eigvals(cov_matrix)\n",
    "print('Conditional number: ', max(eigenvec) /  min(eigenvec))"
   ]
  },
  {
   "cell_type": "markdown",
   "metadata": {},
   "source": [
    "# Задание 1. Истинный оптимальный портфель в модели Марковица с заданным отношением к риску. "
   ]
  },
  {
   "cell_type": "markdown",
   "metadata": {},
   "source": [
    "Задана константа b. Решите задачу оптимизации\n",
    "\n",
    "$ -E(x)+ b\\sigma(x) \\rightarrow min, $\n",
    "$ x_1+x_2+\\cdots+x_N =1$ $x_i \\ge 0 $\n",
    "\n",
    "(т.е. найдите оптимальный портфель с отношением к риску, равным b). Найдите и зафиксируйте веса портфеля и значение целевой функции.\n",
    "\n",
    "Здесь $ E(x)= E_1 x_1+E_2 x_2+\\cdots+E_N x_N$ , $ \\sigma (x)= \\sum \\sum σ_{ij} x_ix_j $"
   ]
  },
  {
   "cell_type": "markdown",
   "metadata": {},
   "source": [
    "### Примечание\n",
    "Константа b подобрана таким образом, что истинный оптимальный CVaR портфель совпадает с истинным оптимальным портфелем п.1. Значение константы смотри в упражнениях к теме \n",
    "\n",
    "$b= \\frac{1}{\\sqrt{2\\pi}}\\frac{1}{{1-\\beta}}exp(-\\frac{(\\Phi^{-1}(\\beta))^2)}{2})$\n",
    "\n",
    "где $\\Phi$ - ф-ция стандартного нормального распределения, а $\\beta$ - увeренность для CVaR"
   ]
  },
  {
   "cell_type": "code",
   "execution_count": 36,
   "metadata": {},
   "outputs": [
    {
     "name": "stdout",
     "output_type": "stream",
     "text": [
      "b:  2.0627128075074257\n"
     ]
    }
   ],
   "source": [
    "beta = 0.95\n",
    "\n",
    "# ppf - percent point function for standart normal distribution\n",
    "b = (np.sqrt(2 * np.pi) *(1 - beta) )**(-1) * np.exp(-(norm.ppf(beta)**2 / 2)) \n",
    "print('b: ', b)"
   ]
  },
  {
   "cell_type": "code",
   "execution_count": 34,
   "metadata": {},
   "outputs": [],
   "source": [
    "from cvxopt import matrix, solvers\n",
    "from scipy.optimize import minimize\n",
    "\n",
    "\n",
    "def risk_portfolio(X, cov_matrix):\n",
    "    return np.sqrt(np.dot(np.dot(X, cov_matrix), X.T))\n",
    "    \n",
    "    \n",
    "def objective_function(X, mean_vec, cov_matrix, b):\n",
    "    return (-np.dot(mean_vec, X)) + b * np.dot(np.dot(X, cov_matrix), X.T)\n",
    "    \n",
    "    \n",
    "def optimize_portfolio(mean_vec,\n",
    "                       cov_matrix, \n",
    "                       b, \n",
    "                       bounds, \n",
    "                       objective_function=objective_function,\n",
    "                       cvxopt=False):\n",
    "    if cvxopt:\n",
    "        r_avg = matrix(mean_vec)\n",
    "        sigma = matrix(b*cov_matrix)\n",
    "        n = mean_vec.shape[0]\n",
    "        P = sigma\n",
    "        q = matrix(-mean_vec)\n",
    "        \n",
    "        # inequality constraint \n",
    "        G = matrix( -np.identity(n) )\n",
    "        h = matrix( np.zeros((n,1)) )  \n",
    "        \n",
    "        # equality constraint Ax = d; captures the constraint sum(x) == 1\n",
    "        A = matrix(1.0, (1,n))\n",
    "        d = matrix(1.0)\n",
    "        sol = solvers.qp(P, q, G, h, A, d, show_progress=False)\n",
    "        clear_output()\n",
    "        return np.array([x for x in sol['x']])\n",
    "    \n",
    "    else: # scipy.minimize\n",
    "        N = cov_matrix.shape[0]\n",
    "        X = np.ones(N)\n",
    "        X = X / X.sum()\n",
    "        bounds = bounds * N\n",
    "\n",
    "        constraints=[]\n",
    "        constraints.append({'type': 'eq', \n",
    "                            'fun': lambda X: np.sum(X) - 1.0})\n",
    "\n",
    "        return minimize(objective_function, X,\n",
    "                        args=(mean_vec, cov_matrix, b), method='SLSQP',\n",
    "                        constraints=constraints,\n",
    "                        bounds=bounds).x\n"
   ]
  },
  {
   "cell_type": "code",
   "execution_count": 37,
   "metadata": {},
   "outputs": [],
   "source": [
    "X = optimize_portfolio(mean_vec, cov_matrix, b, bounds=((0, 1),))"
   ]
  },
  {
   "cell_type": "code",
   "execution_count": 82,
   "metadata": {},
   "outputs": [
    {
     "data": {
      "image/png": "[encoded data removed]",
      "text/plain": [
       "<Figure size 432x144 with 1 Axes>"
      ]
     },
     "metadata": {
      "needs_background": "light"
     },
     "output_type": "display_data"
    }
   ],
   "source": [
    "def plot_weights_histogram(weights, data):\n",
    "    plt.figure(figsize=(6,2))\n",
    "    x_values = selected20.columns\n",
    "    x = np.arange(len(weights))\n",
    "    plt.xlabel('Акция')\n",
    "    plt.ylabel('Вес')\n",
    "    height = weights\n",
    "    plt.bar(x, height=height)\n",
    "    plt.xticks(x, x_values, rotation='50')\n",
    "    plt.grid()\n",
    "    \n",
    "plot_weights_histogram(X, selected20)\n",
    "plt.title('Полученные веса портфеля')\n",
    "pass\n"
   ]
  },
  {
   "cell_type": "code",
   "execution_count": 76,
   "metadata": {},
   "outputs": [],
   "source": [
    "def plot_mean_var_map(df,x='Standard deviation', y='Expected returns', title='Карта активов:σ от E', figsize=(12, 6)):\n",
    "    # получить карту риск от дохоности\n",
    "    \n",
    "    ax = df.plot(x=x, y=y, s = np.array([150]), kind='scatter',\n",
    "                          figsize=figsize, \n",
    "                          edgecolor='black',\n",
    "                          grid=True)\n",
    "    plt.xlabel('Sigma', size=15)\n",
    "    plt.ylabel('E', size=15)\n",
    "    plt.title(title, size=16)"
   ]
  },
  {
   "cell_type": "code",
   "execution_count": 77,
   "metadata": {},
   "outputs": [
    {
     "data": {
      "image/png": "[encoded data removed]",
      "text/plain": [
       "<Figure size 864x432 with 1 Axes>"
      ]
     },
     "metadata": {
      "needs_background": "light"
     },
     "output_type": "display_data"
    }
   ],
   "source": [
    "plot_mean_var_map(stats_all.loc[selected20.columns], title='Карта активов')\n",
    "plt.scatter(risk_portfolio(X, cov_matrix),\n",
    "            np.dot(mean_vec,X), \n",
    "            c='yellow',\n",
    "            marker='*',\n",
    "            s=300, \n",
    "            edgecolors='black',\n",
    "            label='Оптимальный портфель b = %.2f' % b)\n",
    "plt.legend()\n",
    "pass"
   ]
  },
  {
   "cell_type": "markdown",
   "metadata": {},
   "source": [
    "# Задание 2. Оценка неопределенности оптимального портфеля в модели Марковица с заданным отношением к риску. "
   ]
  },
  {
   "cell_type": "markdown",
   "metadata": {},
   "source": [
    "***2.1 Задайте число наблюдений $T=30$. С помощью генератора многомерного нормального распределения создайте выборку размера $Т$ из нормального распределения с вектором математических ожиданий  $E=(E_1, E_2, …, E_N)$ и матрицей ковариаций $(\\sigma_i,j)$.***"
   ]
  },
  {
   "cell_type": "code",
   "execution_count": 87,
   "metadata": {},
   "outputs": [],
   "source": [
    "T = 30\n",
    "r_matrix_gen = np.random.multivariate_normal(mean_vec, cov_matrix, T)"
   ]
  },
  {
   "cell_type": "markdown",
   "metadata": {},
   "source": [
    "***2.2. По построенной выборке сделайте оценку $E^{est}$ вектора математических ожиданий и оценку $ \\sigma ^{est}_{i,j}$ матрицы ковариаций.***"
   ]
  },
  {
   "cell_type": "code",
   "execution_count": 88,
   "metadata": {},
   "outputs": [],
   "source": [
    "mean_vec_est = np.mean(r_matrix_gen, axis=0)\n",
    "cov_matrix_est = np.cov(r_matrix_gen.T)\n"
   ]
  },
  {
   "cell_type": "code",
   "execution_count": 90,
   "metadata": {},
   "outputs": [
    {
     "name": "stdout",
     "output_type": "stream",
     "text": [
      "Истинный вектор средних:\n",
      "array([ 0.   ,  0.   ,  0.001,  0.   ,  0.   ,  0.   , -0.   , -0.   ,\n",
      "       -0.   , -0.   , -0.002, -0.002, -0.   , -0.   , -0.001, -0.001,\n",
      "        0.   , -0.001, -0.   , -0.001])\n",
      "\n",
      "Оценки вектора средних:\n",
      "array([ 0.006,  0.003,  0.002,  0.005, -0.001,  0.005,  0.007,  0.001,\n",
      "        0.002,  0.001,  0.005,  0.003, -0.001, -0.   ,  0.002, -0.007,\n",
      "        0.001, -0.   ,  0.   , -0.003])\n"
     ]
    }
   ],
   "source": [
    "import pprint\n",
    "\n",
    "print('Истинный вектор средних:')\n",
    "pprint.pprint(np.around(mean_vec, 3))\n",
    "print()\n",
    "print('Оценки вектора средних:')\n",
    "pprint.pprint(np.around(mean_vec_est, 3))"
   ]
  },
  {
   "cell_type": "markdown",
   "metadata": {},
   "source": [
    "***2.3 Используя эти оценки решите задачу оптимизации***\n",
    "\n",
    "$-E^{est}(x)+ b\\sigma^{est}(x) \\rightarrow min,$\n",
    "$x_1 + x_2 + \\cdots + x_N = 1, x_i \\ge 0$\n",
    "\n",
    "Здесь $E^{est}(x)= E^{est}_1 x_1+E^{est}_2 x_2+\\cdots+E^{est}_N x_N$ , $ [\\sigma^{est} (x)]^2= \\sum \\sum σ^{est}_{ij} x_ix_j$\n",
    "\n",
    "(т.е. найдите выборочный оптимальный портфель с отношением к риску, равным b). Найдите и зафиксируйте веса портфеля и значение целевой функции."
   ]
  },
  {
   "cell_type": "code",
   "execution_count": 91,
   "metadata": {},
   "outputs": [],
   "source": [
    "X_est = optimize_portfolio(mean_vec_est, cov_matrix_est, b, bounds=((0, 1),))"
   ]
  },
  {
   "cell_type": "markdown",
   "metadata": {},
   "source": [
    "***2.4 Сравните два портфеля: истинный (п.1) и выборочный (п.2.3).***\n",
    "\n",
    "Оцените относительную ошибку в определении весов портфеля в норме Manhattan ($L1$ норма Минковского). Сделайте выводы. Сделайте сравнение в системе координат $(\\sigma, E)$."
   ]
  },
  {
   "cell_type": "code",
   "execution_count": 92,
   "metadata": {},
   "outputs": [
    {
     "name": "stdout",
     "output_type": "stream",
     "text": [
      "Истинные веса портфеля:\n",
      "array([0.15 , 0.192, 0.46 , 0.   , 0.086, 0.09 , 0.   , 0.   , 0.   ,\n",
      "       0.   , 0.   , 0.   , 0.   , 0.   , 0.   , 0.   , 0.023, 0.   ,\n",
      "       0.   , 0.   ])\n",
      "\n",
      "Оценки весов портфеля:\n",
      "array([0.11, 0.  , 0.  , 0.  , 0.  , 0.  , 0.89, 0.  , 0.  , 0.  , 0.  ,\n",
      "       0.  , 0.  , 0.  , 0.  , 0.  , 0.  , 0.  , 0.  , 0.  ])\n"
     ]
    }
   ],
   "source": [
    "print('Истинные веса портфеля:')\n",
    "pprint.pprint(np.around(X, 3))\n",
    "print()\n",
    "print('Оценки весов портфеля:')\n",
    "pprint.pprint(np.around(X_est, 3))"
   ]
  },
  {
   "cell_type": "code",
   "execution_count": 93,
   "metadata": {},
   "outputs": [
    {
     "data": {
      "image/png": "[encoded data removed]",
      "text/plain": [
       "<Figure size 432x144 with 1 Axes>"
      ]
     },
     "metadata": {
      "needs_background": "light"
     },
     "output_type": "display_data"
    },
    {
     "data": {
      "image/png": "[encoded data removed]",
      "text/plain": [
       "<Figure size 432x144 with 1 Axes>"
      ]
     },
     "metadata": {
      "needs_background": "light"
     },
     "output_type": "display_data"
    }
   ],
   "source": [
    "plot_weights_histogram(X, selected20)\n",
    "plt.title('Истинные веса портфеля')\n",
    "plt.show()\n",
    "plot_weights_histogram(X_est, selected20)\n",
    "plt.title('Оценки полученных весов портфеля')\n",
    "pass"
   ]
  },
  {
   "cell_type": "code",
   "execution_count": 95,
   "metadata": {},
   "outputs": [
    {
     "name": "stdout",
     "output_type": "stream",
     "text": [
      "L1 норма вектора X - Xest: 1.78\n"
     ]
    }
   ],
   "source": [
    "print('L1 норма вектора X - Xest:', np.around(np.linalg.norm(X - X_est, ord=1), 3))"
   ]
  },
  {
   "cell_type": "code",
   "execution_count": 97,
   "metadata": {},
   "outputs": [
    {
     "data": {
      "image/png": "[encoded data removed]",
      "text/plain": [
       "<Figure size 864x432 with 1 Axes>"
      ]
     },
     "metadata": {
      "needs_background": "light"
     },
     "output_type": "display_data"
    }
   ],
   "source": [
    "plot_mean_var_map(stats_all.loc[selected20.columns], title='Карта активов')\n",
    "plt.scatter(risk_portfolio(X, cov_matrix),\n",
    "            np.dot(mean_vec,X), \n",
    "            c='yellow',\n",
    "            marker='*',\n",
    "            s=300, \n",
    "            edgecolors='black',\n",
    "            label='Оптимальный портфель b = %.2f' % b)\n",
    "plt.scatter(risk_portfolio(X_est, cov_matrix_est),\n",
    "            np.dot(mean_vec_est, X_est), \n",
    "            c='red',\n",
    "            marker='*',\n",
    "            s=300, \n",
    "            edgecolors='black',\n",
    "            label='Оценка оптимального портфеля b = %.2f' % b)\n",
    "plt.legend()\n",
    "pass"
   ]
  },
  {
   "cell_type": "markdown",
   "metadata": {},
   "source": [
    "Вывод:"
   ]
  },
  {
   "cell_type": "markdown",
   "metadata": {},
   "source": [
    "***2.5. Повторите эксперимент $S=40$ раз и оцените среднюю относительную ошибку по $S$ повторениям эксперимента.***\n",
    "\n",
    "Сделайте выводы.\n",
    "\n",
    "Сделайте сравнение в системе координат $(\\sigma, E)$"
   ]
  },
  {
   "cell_type": "code",
   "execution_count": 99,
   "metadata": {},
   "outputs": [
    {
     "name": "stderr",
     "output_type": "stream",
     "text": [
      "C:\\Users\\ciril\\AppData\\Local\\Temp/ipykernel_7844/386144300.py:5: TqdmDeprecationWarning: This function will be removed in tqdm==5.0.0\n",
      "Please use `tqdm.notebook.tqdm` instead of `tqdm.tqdm_notebook`\n",
      "  for i in tqdm_notebook(range(S)):\n"
     ]
    },
    {
     "data": {
      "application/vnd.jupyter.widget-view+json": {
       "model_id": "a3d1fcdfb3c947c8a36874a87013366d",
       "version_major": 2,
       "version_minor": 0
      },
      "text/plain": [
       "HBox(children=(FloatProgress(value=0.0, max=40.0), HTML(value='')))"
      ]
     },
     "metadata": {},
     "output_type": "display_data"
    },
    {
     "name": "stdout",
     "output_type": "stream",
     "text": [
      "\n"
     ]
    }
   ],
   "source": [
    "S = 40 \n",
    "\n",
    "experiments = []\n",
    "\n",
    "for i in tqdm_notebook(range(S)):\n",
    "    experiment = {}\n",
    "    experiment['i'] = i\n",
    "    experiment['r_matrix_gen'] = np.random.multivariate_normal(mean_vec, cov_matrix, T)\n",
    "    experiment['mean_vec_est'] = np.mean(experiment['r_matrix_gen'], axis=0)\n",
    "    experiment['cov_matrix_est'] = np.cov(experiment['r_matrix_gen'].T)\n",
    "    experiment['X_est'] =  optimize_portfolio( experiment['mean_vec_est'], \n",
    "                                              experiment['cov_matrix_est'], \n",
    "                                              b, \n",
    "                                              bounds=((0, 1),))\n",
    "    experiment['L1-norm'] = np.linalg.norm(X - experiment['X_est'], ord=1)\n",
    "    experiments.append(experiment)\n"
   ]
  },
  {
   "cell_type": "code",
   "execution_count": 100,
   "metadata": {},
   "outputs": [
    {
     "name": "stdout",
     "output_type": "stream",
     "text": [
      "Средняя L1-норма по 40 экспериментам: 1.774\n",
      "Примерный 95 прц. доверительный интервал: [1.210, 2.337]\n"
     ]
    }
   ],
   "source": [
    "l1_norms = [experiment['L1-norm'] for experiment in experiments]\n",
    "l1_norms_mean  = np.mean(l1_norms)\n",
    "l1_norms_std  = np.std(l1_norms)\n",
    "print('Средняя L1-норма по %d экспериментам: %.3f' % (S, l1_norms_mean))\n",
    "print('Примерный 95 прц. доверительный интервал: [%.3f, %.3f]' %\n",
    "      (l1_norms_mean - 2*l1_norms_std, l1_norms_mean + 2*l1_norms_std))"
   ]
  },
  {
   "cell_type": "code",
   "execution_count": 102,
   "metadata": {},
   "outputs": [
    {
     "data": {
      "image/png": "[encoded data removed]",
      "text/plain": [
       "<Figure size 864x432 with 1 Axes>"
      ]
     },
     "metadata": {
      "needs_background": "light"
     },
     "output_type": "display_data"
    }
   ],
   "source": [
    "plot_mean_var_map(stats_all.loc[selected20.columns], title='Карта активов')\n",
    "\n",
    "for experiment in experiments:\n",
    "    plt.scatter(risk_portfolio(experiment['X_est'], experiment['cov_matrix_est']),\n",
    "                np.dot(experiment['mean_vec_est'], experiment['X_est']), \n",
    "                c='red',\n",
    "                marker='*',\n",
    "                s=300, \n",
    "                edgecolors='black')\n",
    "    \n",
    "plt.scatter(risk_portfolio(X, cov_matrix),\n",
    "            np.dot(mean_vec,X), \n",
    "            c='yellow',\n",
    "            marker='*',\n",
    "            s=300, \n",
    "            edgecolors='black',\n",
    "            label='Оптимальный портфель b = %.2f' % b)\n",
    "plt.legend()\n",
    "pass"
   ]
  },
  {
   "cell_type": "markdown",
   "metadata": {},
   "source": [
    "Вывод:"
   ]
  },
  {
   "cell_type": "markdown",
   "metadata": {},
   "source": [
    "***2.6 Предположите, что нам известны точные значения математических ожиданий $E=(E_1, E_2, …, E_N)$.***\n",
    "\n",
    "Повторите пп. 2.2-2.5. используя оценку только матрицы ковариаций (т.е. решайте задачу оптимизации\n",
    "\n",
    "$-E^{est}(x)+ b\\sigma^{est}(x) \\rightarrow min,$\n",
    "$x_1+x_2+\\cdots+x_N =1$ $x_i \\ge 0$\n",
    "\n",
    "Здесь $E^{est}(x)= E^{est}_1 x_1+E^{est}_2 x_2+\\cdots+E^{est}_N x_N$ , $ \\sigma^{est} (x)= \\sum \\sum σ^{est}_{ij} x_ix_j$\n",
    "\n",
    "Сравните точность этих портфелей и портфелей п.2.3"
   ]
  },
  {
   "cell_type": "code",
   "execution_count": 103,
   "metadata": {},
   "outputs": [
    {
     "name": "stderr",
     "output_type": "stream",
     "text": [
      "C:\\Users\\ciril\\AppData\\Local\\Temp/ipykernel_7844/1564895457.py:3: TqdmDeprecationWarning: This function will be removed in tqdm==5.0.0\n",
      "Please use `tqdm.notebook.tqdm` instead of `tqdm.tqdm_notebook`\n",
      "  for i in tqdm_notebook(range(S)):\n"
     ]
    },
    {
     "data": {
      "application/vnd.jupyter.widget-view+json": {
       "model_id": "a0280a3ff3344b4983618a6eda985c5f",
       "version_major": 2,
       "version_minor": 0
      },
      "text/plain": [
       "HBox(children=(FloatProgress(value=0.0, max=40.0), HTML(value='')))"
      ]
     },
     "metadata": {},
     "output_type": "display_data"
    },
    {
     "name": "stdout",
     "output_type": "stream",
     "text": [
      "\n"
     ]
    }
   ],
   "source": [
    "experiments_with_true_mean = []\n",
    "\n",
    "for i in tqdm_notebook(range(S)):\n",
    "    experiment = {}\n",
    "    experiment['i'] = i\n",
    "    experiment['r_matrix_gen'] = np.random.multivariate_normal(mean_vec, cov_matrix, T)\n",
    "    experiment['mean_vec_est'] = np.mean(experiment['r_matrix_gen'], axis=0)\n",
    "    experiment['cov_matrix_est'] = np.cov(experiment['r_matrix_gen'].T)\n",
    "    experiment['X_est'] =  optimize_portfolio(mean_vec,                     # используем истинный вектор средних\n",
    "                                              experiment['cov_matrix_est'], \n",
    "                                              b, \n",
    "                                              bounds=((0, 1),))\n",
    "    experiment['L1-norm'] = np.linalg.norm(X - experiment['X_est'], ord=1)\n",
    "    experiments_with_true_mean.append(experiment)"
   ]
  },
  {
   "cell_type": "code",
   "execution_count": 104,
   "metadata": {},
   "outputs": [
    {
     "name": "stdout",
     "output_type": "stream",
     "text": [
      "Средняя L1-норма по 40 экспериментам: 0.320\n",
      "Примерный 95 прц. доверительный интервал: [0.078, 0.562]\n"
     ]
    }
   ],
   "source": [
    "l1_norms = [experiment['L1-norm'] for experiment in experiments_with_true_mean]\n",
    "l1_norms_mean  = np.mean(l1_norms)\n",
    "l1_norms_std  = np.std(l1_norms)\n",
    "print('Средняя L1-норма по %d экспериментам: %.3f' % (S, l1_norms_mean))\n",
    "print('Примерный 95 прц. доверительный интервал: [%.3f, %.3f]' %\n",
    "      (l1_norms_mean - 2*l1_norms_std, l1_norms_mean + 2*l1_norms_std))"
   ]
  },
  {
   "cell_type": "code",
   "execution_count": 105,
   "metadata": {},
   "outputs": [
    {
     "data": {
      "image/png": "[encoded data removed]",
      "text/plain": [
       "<Figure size 864x432 with 1 Axes>"
      ]
     },
     "metadata": {
      "needs_background": "light"
     },
     "output_type": "display_data"
    }
   ],
   "source": [
    "plot_mean_var_map(stats_all.loc[selected20.columns], title='Карта активов')\n",
    "\n",
    "for experiment in experiments_with_true_mean:\n",
    "    plt.scatter(risk_portfolio(experiment['X_est'], experiment['cov_matrix_est']),\n",
    "                np.dot(experiment['mean_vec_est'], experiment['X_est']), \n",
    "                c='red',\n",
    "                marker='*',\n",
    "                s=300, \n",
    "                edgecolors='black')\n",
    "plt.scatter(risk_portfolio(X, cov_matrix),\n",
    "            np.dot(mean_vec,X), \n",
    "            c='yellow',\n",
    "            marker='*',\n",
    "            s=300, \n",
    "            edgecolors='black',\n",
    "            label='Оптимальный портфель b = %.2f' % b)\n",
    "plt.legend()\n",
    "pass\n"
   ]
  },
  {
   "cell_type": "markdown",
   "metadata": {},
   "source": [
    "Вывод:"
   ]
  },
  {
   "cell_type": "markdown",
   "metadata": {},
   "source": [
    "# Задание 3. Оценка неопределенности оптимального CVaR портфеля"
   ]
  },
  {
   "cell_type": "markdown",
   "metadata": {},
   "source": [
    "***3.1 Уровень значимости β выбран $0,95$. Число наблюдений $T$.***\n",
    "\n",
    "Используя сгенерированные наблюдения из п.2.1 решите задачу ЛП для определения оптимального $CVaR_β$ портфеля. Найдите и зафиксируйте веса портфеля и значение целевой функции $CVaR$."
   ]
  },
  {
   "cell_type": "code",
   "execution_count": 106,
   "metadata": {},
   "outputs": [],
   "source": [
    "def cvar_objective_function(UXalpha, T, beta):\n",
    "    return UXalpha[-1] + 1 / (T * (1 - beta)) * np.sum(UXalpha[:T])\n",
    "    \n",
    "def cvar_optimize_portfolio(r_matrix,\n",
    "                            beta, \n",
    "                            cvar_objective_function=cvar_objective_function,\n",
    "                            cvxopt=False):\n",
    "    alpha  = 0 \n",
    "    N = r_matrix.shape[1]\n",
    "    X = np.ones(N)/ N \n",
    "   \n",
    "    T = r_matrix.shape[0] \n",
    "    U = np.dot(r_matrix,  X) - alpha\n",
    "    \n",
    "    UXalpha = np.zeros(T+N+1)\n",
    "    UXalpha[:T] = U\n",
    "    UXalpha[T:N+T]= X\n",
    "    UXalpha[-1] = alpha\n",
    "    \n",
    "    bounds_U = ((0, 100000000000),) * T\n",
    "    bounds_X = ((0, 1.1),) * N\n",
    "    bounds_alpha = ((-100000, 100000),)\n",
    "    bounds = bounds_U + bounds_X + bounds_alpha\n",
    "    \n",
    "    \n",
    "    constraints = []\n",
    "    constraints.append({'type': 'eq', 'fun': lambda X: sum(X[T:N+T]) -1})\n",
    "    def u_x_con(UXalpha, r_matrix, i):\n",
    "        return np.dot(r_matrix[i], UXalpha[T:N+T]) + UXalpha[-1] - UXalpha[i],\n",
    "    for i in range(T):\n",
    "        constraints.append({'type': 'ineq', \n",
    "                            'fun': u_x_con,\n",
    "                            'args': (r_matrix, i)})\n",
    "\n",
    "    \n",
    "    return minimize(cvar_objective_function, UXalpha,\n",
    "                    args=(T, beta), method='SLSQP',\n",
    "                    constraints=constraints,\n",
    "                    bounds=bounds).x\n",
    "    "
   ]
  },
  {
   "cell_type": "code",
   "execution_count": 110,
   "metadata": {},
   "outputs": [
    {
     "name": "stdout",
     "output_type": "stream",
     "text": [
      "Wall time: 336 ms\n"
     ]
    }
   ],
   "source": [
    "%%time\n",
    "result = cvar_optimize_portfolio(r_matrix_gen, beta)"
   ]
  },
  {
   "cell_type": "code",
   "execution_count": 112,
   "metadata": {},
   "outputs": [],
   "source": [
    "T = 30\n",
    "N = 20\n",
    "UXalpha = result\n",
    "cvar_X_est = UXalpha[T:N+T]\n",
    "alpha_est  = UXalpha[-1]"
   ]
  },
  {
   "cell_type": "code",
   "execution_count": 113,
   "metadata": {},
   "outputs": [
    {
     "name": "stdout",
     "output_type": "stream",
     "text": [
      "Alpha CVAR портфеля: 0.001\n"
     ]
    }
   ],
   "source": [
    "print('Alpha CVAR портфеля:' ,round(alpha_est, 4))\n"
   ]
  },
  {
   "cell_type": "code",
   "execution_count": 115,
   "metadata": {},
   "outputs": [
    {
     "name": "stdout",
     "output_type": "stream",
     "text": [
      "VAR CVAR портфеля на уровне 0.95: 0.001\n"
     ]
    }
   ],
   "source": [
    "print('VAR CVAR портфеля на уровне 0.95:' ,round(np.quantile(-np.dot(r_matrix_gen, cvar_X_est), 0.95), 4))"
   ]
  },
  {
   "cell_type": "code",
   "execution_count": 116,
   "metadata": {},
   "outputs": [
    {
     "data": {
      "image/png": "[encoded data removed]",
      "text/plain": [
       "<Figure size 432x144 with 1 Axes>"
      ]
     },
     "metadata": {
      "needs_background": "light"
     },
     "output_type": "display_data"
    },
    {
     "data": {
      "image/png": "[encoded data removed]",
      "text/plain": [
       "<Figure size 432x144 with 1 Axes>"
      ]
     },
     "metadata": {
      "needs_background": "light"
     },
     "output_type": "display_data"
    },
    {
     "data": {
      "image/png": "[encoded data removed]",
      "text/plain": [
       "<Figure size 432x144 with 1 Axes>"
      ]
     },
     "metadata": {
      "needs_background": "light"
     },
     "output_type": "display_data"
    }
   ],
   "source": [
    "plot_weights_histogram(X, selected20)\n",
    "plt.title('Истинные веса портфеля')\n",
    "plt.show()\n",
    "plot_weights_histogram(X_est, selected20)\n",
    "plt.title('Оценки полученных весов портфеля')\n",
    "plot_weights_histogram(cvar_X_est, selected20)\n",
    "plt.title('Оценки полученных весов портфеля CVAR') \n",
    "pass\n"
   ]
  },
  {
   "cell_type": "markdown",
   "metadata": {},
   "source": [
    "***3.2 Сравните два портфеля: истинный (п.1) и найденный в п.3.1.***"
   ]
  },
  {
   "cell_type": "markdown",
   "metadata": {},
   "source": [
    "Оцените относительную ошибку в определении весов портфеля в норме Manhattan ($L1$ норма Минковского). Сравните с ошибкой портфеля из п. 2.3"
   ]
  },
  {
   "cell_type": "code",
   "execution_count": 117,
   "metadata": {},
   "outputs": [
    {
     "name": "stdout",
     "output_type": "stream",
     "text": [
      "L1 норма вектора X-Xest в 2.3 : 1.78\n",
      "L1 норма вектора для CVAR X-cvar_Xest: 1.077\n"
     ]
    }
   ],
   "source": [
    "print('L1 норма вектора X-Xest в 2.3 :', np.around(np.linalg.norm(X - X_est, ord=1), 3))\n",
    "print('L1 норма вектора для CVAR X-cvar_Xest:', np.around(np.linalg.norm(X - cvar_X_est, ord=1), 3))"
   ]
  },
  {
   "cell_type": "code",
   "execution_count": 118,
   "metadata": {},
   "outputs": [
    {
     "data": {
      "image/png": "[encoded data removed]",
      "text/plain": [
       "<Figure size 864x432 with 1 Axes>"
      ]
     },
     "metadata": {
      "needs_background": "light"
     },
     "output_type": "display_data"
    }
   ],
   "source": [
    "plot_mean_var_map(stats_all.loc[selected20.columns], title='Карта активов')\n",
    "plt.scatter(risk_portfolio(X, cov_matrix),\n",
    "            np.dot(mean_vec,X), \n",
    "            c='yellow',\n",
    "            marker='*',\n",
    "            s=300, \n",
    "            edgecolors='black',\n",
    "            label='Оптимальный портфель b = %.2f' % b)\n",
    "\n",
    "plt.scatter(risk_portfolio(X_est, cov_matrix_est),\n",
    "            np.dot(mean_vec_est, X_est), \n",
    "            c='red',\n",
    "            marker='*',\n",
    "            s=300, \n",
    "            edgecolors='black',\n",
    "            label='Оценка оптимального портфеля b = %.2f' % b)\n",
    "\n",
    "plt.scatter(risk_portfolio(cvar_X_est, cov_matrix_est),\n",
    "            np.dot(mean_vec_est, cvar_X_est), \n",
    "            c='green',\n",
    "            marker='*',\n",
    "            s=300, \n",
    "            edgecolors='black',\n",
    "            label='Оценка оптимального портфеля  CVaR' % b)\n",
    "plt.legend()\n",
    "pass"
   ]
  },
  {
   "cell_type": "markdown",
   "metadata": {},
   "source": [
    "Вывод: "
   ]
  },
  {
   "cell_type": "markdown",
   "metadata": {},
   "source": [
    "***3.3. Повторите эксперимент $S$ раз и оцените среднюю относительную ошибку по $S$ повторениям эксперимента.***\n",
    "\n",
    "Сделайте выводы. Сравните с ошибкой из п. 2.5"
   ]
  },
  {
   "cell_type": "code",
   "execution_count": 119,
   "metadata": {},
   "outputs": [
    {
     "name": "stderr",
     "output_type": "stream",
     "text": [
      "C:\\Users\\ciril\\AppData\\Local\\Temp/ipykernel_7844/29611755.py:5: TqdmDeprecationWarning: This function will be removed in tqdm==5.0.0\n",
      "Please use `tqdm.notebook.tqdm` instead of `tqdm.tqdm_notebook`\n",
      "  for i in tqdm_notebook(range(S)):\n"
     ]
    },
    {
     "data": {
      "application/vnd.jupyter.widget-view+json": {
       "model_id": "7b95bda6c1b54bd196886908e398c842",
       "version_major": 2,
       "version_minor": 0
      },
      "text/plain": [
       "HBox(children=(FloatProgress(value=0.0, max=40.0), HTML(value='')))"
      ]
     },
     "metadata": {},
     "output_type": "display_data"
    },
    {
     "name": "stdout",
     "output_type": "stream",
     "text": [
      "\n"
     ]
    }
   ],
   "source": [
    "S = 40 \n",
    "\n",
    "cvar_experiments = []\n",
    "\n",
    "for i in tqdm_notebook(range(S)):\n",
    "    cvar_experiment = {}\n",
    "    cvar_experiment['i'] = i\n",
    "    cvar_experiment['r_matrix_gen'] = np.random.multivariate_normal(mean_vec, cov_matrix, T)\n",
    "    cvar_experiment['mean_vec_est'] = np.mean(cvar_experiment['r_matrix_gen'], axis=0)\n",
    "    cvar_experiment['cov_matrix_est'] = np.cov(cvar_experiment['r_matrix_gen'].T)\n",
    "    cvar_experiment['cvar_X_est'] =  cvar_optimize_portfolio(cvar_experiment['r_matrix_gen'], beta)\n",
    "    cvar_experiment['L1-norm'] = np.linalg.norm(X - cvar_experiment['cvar_X_est'][T:N+T], ord=1)\n",
    "    cvar_experiments.append(cvar_experiment)"
   ]
  },
  {
   "cell_type": "code",
   "execution_count": 120,
   "metadata": {},
   "outputs": [
    {
     "name": "stdout",
     "output_type": "stream",
     "text": [
      "Средняя L1-норма из пункта 2.5 по 40 экспериментам: 1.774\n",
      "Примерный 95 прц. доверительный интервал: [1.210, 2.337]\n"
     ]
    }
   ],
   "source": [
    "l1_norms = [experiment['L1-norm'] for experiment in experiments]\n",
    "l1_norms_mean  = np.mean(l1_norms)\n",
    "l1_norms_std  = np.std(l1_norms)\n",
    "print('Средняя L1-норма из пункта 2.5 по %d экспериментам: %.3f' % (S, l1_norms_mean))\n",
    "print('Примерный 95 прц. доверительный интервал: [%.3f, %.3f]' %\n",
    "      (l1_norms_mean - 2*l1_norms_std, l1_norms_mean + 2*l1_norms_std))"
   ]
  },
  {
   "cell_type": "code",
   "execution_count": 121,
   "metadata": {},
   "outputs": [
    {
     "name": "stdout",
     "output_type": "stream",
     "text": [
      "Средняя L1-норма CVAR по 40 экспериментам: 1.508\n",
      "Примерный 95 прц. доверительный интервал: [1.032, 1.984]\n"
     ]
    }
   ],
   "source": [
    "l1_norms = [cvar_experiment['L1-norm'] for cvar_experiment in cvar_experiments]\n",
    "l1_norms_mean  = np.mean(l1_norms)\n",
    "l1_norms_std  = np.std(l1_norms)\n",
    "print('Средняя L1-норма CVAR по %d экспериментам: %.3f' % (S, l1_norms_mean))\n",
    "print('Примерный 95 прц. доверительный интервал: [%.3f, %.3f]' %\n",
    "      (l1_norms_mean - 2*l1_norms_std, l1_norms_mean + 2*l1_norms_std))\n"
   ]
  },
  {
   "cell_type": "code",
   "execution_count": 122,
   "metadata": {},
   "outputs": [
    {
     "data": {
      "image/png": "[encoded data removed]",
      "text/plain": [
       "<Figure size 864x432 with 1 Axes>"
      ]
     },
     "metadata": {
      "needs_background": "light"
     },
     "output_type": "display_data"
    }
   ],
   "source": [
    "plot_mean_var_map(stats_all.loc[selected20.columns], title='Карта активов')\n",
    "\n",
    "for experiment in cvar_experiments:\n",
    "    plt.scatter(risk_portfolio(experiment['cvar_X_est'][T:N+T], experiment['cov_matrix_est']),\n",
    "                np.dot(experiment['mean_vec_est'], experiment['cvar_X_est'][T:N+T]), \n",
    "                c='green',\n",
    "                marker='*',\n",
    "                s=300, \n",
    "                edgecolors='black')\n",
    "plt.scatter(risk_portfolio(X, cov_matrix),\n",
    "            np.dot(mean_vec,X), \n",
    "            c='yellow',\n",
    "            marker='*',\n",
    "            s=300, \n",
    "            edgecolors='black',\n",
    "            label='Оптимальный портфель b = %.2f' % b)\n",
    "plt.legend()\n",
    "pass"
   ]
  },
  {
   "cell_type": "markdown",
   "metadata": {},
   "source": [
    "Вывод:"
   ]
  }
 ],
 "metadata": {
  "kernelspec": {
   "display_name": "Python 3.9.7 ('base')",
   "language": "python",
   "name": "python3"
  },
  "language_info": {
   "codemirror_mode": {
    "name": "ipython",
    "version": 3
   },
   "file_extension": ".py",
   "mimetype": "text/x-python",
   "name": "python",
   "nbconvert_exporter": "python",
   "pygments_lexer": "ipython3",
   "version": "3.9.7"
  },
  "orig_nbformat": 4,
  "vscode": {
   "interpreter": {
    "hash": "d07921fcac9efc71e32baa62f54cc7cc7703180b766de90eef3b067ead514a11"
   }
  }
 },
 "nbformat": 4,
 "nbformat_minor": 2
}
